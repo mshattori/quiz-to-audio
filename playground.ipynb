{
 "cells": [
  {
   "cell_type": "code",
   "execution_count": null,
   "id": "96f44236",
   "metadata": {
    "scrolled": true
   },
   "outputs": [],
   "source": [
    "!pip install boto3\n",
    "!pip install pydub"
   ]
  },
  {
   "cell_type": "code",
   "execution_count": null,
   "id": "2fed9e36",
   "metadata": {},
   "outputs": [],
   "source": [
    "%load_ext autoreload\n",
    "%autoreload 2"
   ]
  },
  {
   "cell_type": "markdown",
   "id": "ad6dd07a",
   "metadata": {},
   "source": [
    "# pydub references\n",
    "- https://algorithm.joho.info/programming/python/pydub/\n",
    "- https://github.com/jiaaro/pydub/blob/master/API.markdown\n",
    "- https://github.com/jiaaro/pydub/blob/master/pydub/audio_segment.py"
   ]
  },
  {
   "cell_type": "code",
   "execution_count": null,
   "id": "40872d66",
   "metadata": {},
   "outputs": [],
   "source": [
    "from polly import *\n",
    "from audio import *"
   ]
  },
  {
   "cell_type": "code",
   "execution_count": null,
   "id": "6afe62ba",
   "metadata": {
    "scrolled": true
   },
   "outputs": [],
   "source": [
    "from glob import glob\n",
    "from pydub import AudioSegment\n",
    "from pydub.playback import play\n",
    "from audio import _combine_QA\n",
    "\n",
    "diretory = 'callan_10_raw'\n",
    "number = '001'\n",
    "\n",
    "file_Q = glob(os.path.join(diretory, number + '-Q-*.mp3'))[0]\n",
    "file_A = glob(os.path.join(diretory, number + '-A-*.mp3'))[0]\n",
    "quiz = _combine_QA(file_Q, file_A)\n",
    "play(quiz)"
   ]
  }
 ],
 "metadata": {
  "kernelspec": {
   "display_name": "Python 3 (ipykernel)",
   "language": "python",
   "name": "python3"
  },
  "language_info": {
   "codemirror_mode": {
    "name": "ipython",
    "version": 3
   },
   "file_extension": ".py",
   "mimetype": "text/x-python",
   "name": "python",
   "nbconvert_exporter": "python",
   "pygments_lexer": "ipython3",
   "version": "3.9.12"
  }
 },
 "nbformat": 4,
 "nbformat_minor": 5
}
